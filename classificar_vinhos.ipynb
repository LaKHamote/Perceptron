{
 "cells": [
  {
   "cell_type": "code",
   "execution_count": 1,
   "id": "6d65f930",
   "metadata": {},
   "outputs": [],
   "source": [
    "import pandas as pd\n",
    "import tensorflow as tf\n",
    "import numpy as np\n",
    "from sklearn.model_selection import train_test_split\n",
    "from d2l import tensorflow as d2l\n",
    "import random"
   ]
  },
  {
   "cell_type": "code",
   "execution_count": 2,
   "id": "68b86089",
   "metadata": {},
   "outputs": [],
   "source": [
    "class LinearRegression(d2l.Module): #@save\n",
    "    \"\"\"The linear regression model implemented with high-level APIs.\"\"\"\n",
    "    \"\"\"Do d2l\"\"\"\n",
    "    def __init__(self, lr):\n",
    "        super().__init__()\n",
    "        self.save_hyperparameters()\n",
    "        initializer = tf.initializers.RandomNormal(stddev=0.01)\n",
    "        self.net = tf.keras.layers.Dense(1, kernel_initializer=initializer)"
   ]
  },
  {
   "cell_type": "code",
   "execution_count": 3,
   "id": "68b86089",
   "metadata": {},
   "outputs": [],
   "source": [
    "class LinearRegressionData(d2l.DataModule): #@save\n",
    "    \"\"\"Data for linear regression.\"\"\"\n",
    "    def __init__(self, nInputs,data,num_train=5197, num_val=1300, batch_size=32):\n",
    "        super().__init__()\n",
    "        self.save_hyperparameters()\n",
    "        self.X=data[:,0:nInputs]\n",
    "        self.y=data[:,nInputs]"
   ]
  },
  {
   "cell_type": "code",
   "execution_count": 4,
   "id": "68b86089",
   "metadata": {},
   "outputs": [],
   "source": [
    "@d2l.add_to_class(d2l.DataModule) #@save\n",
    "def get_tensorloader(self, tensors, train, indices=slice(0, None)):\n",
    "    tensors = tuple(a[indices] for a in tensors)\n",
    "    shuffle_buffer = tensors[0].shape[0] if train else 1\n",
    "    return tf.data.Dataset.from_tensor_slices(tensors).shuffle(\n",
    "    buffer_size=shuffle_buffer).batch(self.batch_size)\n",
    "    \n",
    "@d2l.add_to_class(LinearRegressionData) #@save\n",
    "def get_dataloader(self, train):\n",
    "    i = slice(0, self.num_train) if train else slice(self.num_train, None)\n",
    "    return self.get_tensorloader((self.X, self.y), train, i)"
   ]
  },
  {
   "cell_type": "code",
   "execution_count": 10,
   "id": "68b86089",
   "metadata": {},
   "outputs": [
    {
     "data": {
      "text/plain": [
       "((5197, 14), (1300, 14), (6497, 14))"
      ]
     },
     "execution_count": 10,
     "metadata": {},
     "output_type": "execute_result"
    }
   ],
   "source": [
    "data = pd.read_csv('winequalityN.csv')\n",
    "data = pd.get_dummies(data)\n",
    "data.to_numpy()\n",
    "data.shape\n",
    "train_data, val_data = train_test_split(data, test_size=0.2)\n",
    "train_data.shape, val_data.shape, data.shape\n"
   ]
  },
  {
   "cell_type": "code",
   "execution_count": null,
   "id": "68b86089",
   "metadata": {},
   "outputs": [],
   "source": []
  },
  {
   "cell_type": "code",
   "execution_count": null,
   "id": "68b86089",
   "metadata": {},
   "outputs": [],
   "source": []
  },
  {
   "cell_type": "code",
   "execution_count": null,
   "id": "68b86089",
   "metadata": {},
   "outputs": [],
   "source": []
  },
  {
   "cell_type": "code",
   "execution_count": null,
   "id": "68b86089",
   "metadata": {},
   "outputs": [],
   "source": []
  }
 ],
 "metadata": {
  "kernelspec": {
   "display_name": "Python 3",
   "language": "python",
   "name": "python3"
  },
  "language_info": {
   "codemirror_mode": {
    "name": "ipython",
    "version": 3
   },
   "file_extension": ".py",
   "mimetype": "text/x-python",
   "name": "python",
   "nbconvert_exporter": "python",
   "pygments_lexer": "ipython3",
   "version": "3.10.5"
  },
  "vscode": {
   "interpreter": {
    "hash": "916dbcbb3f70747c44a77c7bcd40155683ae19c65e1c03b4aa3499c5328201f1"
   }
  }
 },
 "nbformat": 4,
 "nbformat_minor": 5
}
